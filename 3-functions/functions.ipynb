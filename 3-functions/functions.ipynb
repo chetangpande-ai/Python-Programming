{
 "cells": [
  {
   "cell_type": "code",
   "execution_count": 4,
   "id": "400a18bb",
   "metadata": {},
   "outputs": [
    {
     "name": "stdout",
     "output_type": "stream",
     "text": [
      "13\n"
     ]
    }
   ],
   "source": [
    "def add(n1,n2):\n",
    "    print(n1+n2)\n",
    "\n",
    "add(6,7)\n"
   ]
  },
  {
   "cell_type": "code",
   "execution_count": null,
   "id": "9b52b0d7",
   "metadata": {},
   "outputs": [
    {
     "name": "stdout",
     "output_type": "stream",
     "text": [
      "Hello Alice\n",
      "Hello ashish\n",
      "Hello Rahul\n"
     ]
    }
   ],
   "source": [
    "\n",
    "def greetings(greeting,*names):\n",
    "    for i in names:\n",
    "        print(greeting, i)\n",
    "        \n",
    "\n",
    "greetings(\"Hello\", \"Alice\",\"ashish\", \"Rahul\")"
   ]
  },
  {
   "cell_type": "markdown",
   "id": "9adc4d55",
   "metadata": {},
   "source": [
    "### function with arguments- dictonary\n",
    "**dictonary"
   ]
  },
  {
   "cell_type": "code",
   "execution_count": null,
   "id": "a5da9b50",
   "metadata": {},
   "outputs": [
    {
     "name": "stdout",
     "output_type": "stream",
     "text": [
      "<class 'dict'>\n",
      "a\n",
      "176\n",
      "b\n",
      "2\n",
      "c\n",
      "3\n"
     ]
    },
    {
     "ename": "TypeError",
     "evalue": "'builtin_function_or_method' object is not subscriptable",
     "output_type": "error",
     "traceback": [
      "\u001b[31m---------------------------------------------------------------------------\u001b[39m",
      "\u001b[31mTypeError\u001b[39m                                 Traceback (most recent call last)",
      "\u001b[36mCell\u001b[39m\u001b[36m \u001b[39m\u001b[32mIn[21]\u001b[39m\u001b[32m, line 8\u001b[39m\n\u001b[32m      5\u001b[39m         \u001b[38;5;28mprint\u001b[39m(kwargs.get(i))\n\u001b[32m      6\u001b[39m     \u001b[38;5;28mprint\u001b[39m(kwargs.get[\u001b[33m\"\u001b[39m\u001b[33ma\u001b[39m\u001b[33m\"\u001b[39m] + kwargs.get(\u001b[33m\"\u001b[39m\u001b[33mb\u001b[39m\u001b[33m\"\u001b[39m) + kwargs.get(\u001b[33m\"\u001b[39m\u001b[33mc\u001b[39m\u001b[33m\"\u001b[39m))\n\u001b[32m----> \u001b[39m\u001b[32m8\u001b[39m \u001b[43madd\u001b[49m\u001b[43m(\u001b[49m\u001b[43ma\u001b[49m\u001b[43m=\u001b[49m\u001b[32;43m176\u001b[39;49m\u001b[43m,\u001b[49m\u001b[43m \u001b[49m\u001b[43mb\u001b[49m\u001b[43m=\u001b[49m\u001b[32;43m2\u001b[39;49m\u001b[43m,\u001b[49m\u001b[43m \u001b[49m\u001b[43mc\u001b[49m\u001b[43m=\u001b[49m\u001b[32;43m3\u001b[39;49m\u001b[43m)\u001b[49m\n",
      "\u001b[36mCell\u001b[39m\u001b[36m \u001b[39m\u001b[32mIn[21]\u001b[39m\u001b[32m, line 6\u001b[39m, in \u001b[36madd\u001b[39m\u001b[34m(**kwargs)\u001b[39m\n\u001b[32m      4\u001b[39m     \u001b[38;5;28mprint\u001b[39m(i)\n\u001b[32m      5\u001b[39m     \u001b[38;5;28mprint\u001b[39m(kwargs.get(i))\n\u001b[32m----> \u001b[39m\u001b[32m6\u001b[39m \u001b[38;5;28mprint\u001b[39m(\u001b[43mkwargs\u001b[49m\u001b[43m.\u001b[49m\u001b[43mget\u001b[49m\u001b[43m[\u001b[49m\u001b[33;43m\"\u001b[39;49m\u001b[33;43ma\u001b[39;49m\u001b[33;43m\"\u001b[39;49m\u001b[43m]\u001b[49m + kwargs.get(\u001b[33m\"\u001b[39m\u001b[33mb\u001b[39m\u001b[33m\"\u001b[39m) + kwargs.get(\u001b[33m\"\u001b[39m\u001b[33mc\u001b[39m\u001b[33m\"\u001b[39m))\n",
      "\u001b[31mTypeError\u001b[39m: 'builtin_function_or_method' object is not subscriptable"
     ]
    }
   ],
   "source": [
    "def add(**kwargs):\n",
    "    print(type(kwargs))\n",
    "    for i in kwargs:\n",
    "        print(i)\n",
    "        print(kwargs.get(i))\n",
    "    print(kwargs.get(\"a\") + kwargs.get(\"b\") + kwargs.get(\"c\"))\n",
    "\n",
    "add(a=176, b=2, c=3)"
   ]
  }
 ],
 "metadata": {
  "kernelspec": {
   "display_name": "Python 3",
   "language": "python",
   "name": "python3"
  },
  "language_info": {
   "codemirror_mode": {
    "name": "ipython",
    "version": 3
   },
   "file_extension": ".py",
   "mimetype": "text/x-python",
   "name": "python",
   "nbconvert_exporter": "python",
   "pygments_lexer": "ipython3",
   "version": "3.12.11"
  }
 },
 "nbformat": 4,
 "nbformat_minor": 5
}
