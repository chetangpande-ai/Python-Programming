{
 "cells": [
  {
   "cell_type": "markdown",
   "id": "9c2a7b0b",
   "metadata": {},
   "source": [
    "### comment line1\n",
    "\n",
    "```\n",
    "Used for:\n",
    "interactive code execution\n",
    "rich documentation\n",
    "experimentation\n",
    "setp-by-step debugging\n",
    "great for teaching\n",
    "```"
   ]
  },
  {
   "cell_type": "markdown",
   "id": "14b78210",
   "metadata": {},
   "source": []
  },
  {
   "cell_type": "code",
   "execution_count": null,
   "id": "94d46d49",
   "metadata": {},
   "outputs": [],
   "source": []
  },
  {
   "cell_type": "code",
   "execution_count": 2,
   "id": "0a1b21c1",
   "metadata": {},
   "outputs": [
    {
     "name": "stdout",
     "output_type": "stream",
     "text": [
      "Alice\n",
      "Bob\n",
      "Charlie\n",
      "David\n",
      "Eve\n"
     ]
    }
   ],
   "source": [
    "\n",
    "def print_names(names):\n",
    "    for name in names:\n",
    "        print(name)\n",
    "\n",
    "empnames=[\"Alice\", \"Bob\", \"Charlie\", \"David\", \"Eve\"]\n",
    "print_names(empnames)"
   ]
  }
 ],
 "metadata": {
  "kernelspec": {
   "display_name": "Python 3",
   "language": "python",
   "name": "python3"
  },
  "language_info": {
   "codemirror_mode": {
    "name": "ipython",
    "version": 3
   },
   "file_extension": ".py",
   "mimetype": "text/x-python",
   "name": "python",
   "nbconvert_exporter": "python",
   "pygments_lexer": "ipython3",
   "version": "3.12.11"
  }
 },
 "nbformat": 4,
 "nbformat_minor": 5
}
